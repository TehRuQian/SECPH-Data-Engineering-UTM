{
 "cells": [
  {
   "cell_type": "markdown",
   "id": "eee8baa3",
   "metadata": {
    "jp-MarkdownHeadingCollapsed": true
   },
   "source": [
    "## STUDENT INFO: \n",
    "### 1) Name\n",
    "### 2) Matric No\n",
    "### 3) Section \n",
    "##### Teh Ru Qian A23CS0191\n",
    "##### Lam Yoke Yu \n",
    "##### Goe Jie Ying \n",
    "##### Section 02"
   ]
  },
  {
   "cell_type": "markdown",
   "id": "4f90bc52",
   "metadata": {},
   "source": [
    "\n",
    "# 🧮 Assignment 1: List, tuple, dictionary, function and File IO\n",
    "\n",
    "**Objective**: Analyze ride-sharing data from a fictional company called QuickRide using Python.\n",
    "\n",
    "**Skills Covered**:\n",
    "- File I/O\n",
    "- Data structures (lists, dicts)\n",
    "- Functions\n",
    "- Lambda expressions and sorting\n",
    "\n",
    "---\n",
    "\n",
    "### 📊 Dataset Structure\n",
    "Each row in the CSV contains:\n",
    "- `ride_id`, `driver_name`, `rider_name`, `city`, `distance`, `duration`, `fare`\n",
    "\n",
    "---\n",
    "\n",
    "### ✅ Tasks\n",
    "1. Save data to .csv file.\n",
    "2. Read and parse the data.\n",
    "3. Compute average fare by city.\n",
    "4. Generate driver summaries.\n",
    "5. Analyze ride from slice of data\n",
    "6. Use `lambda` to find top drivers \n",
    "7. Use `lambda` to find sort cities.\n",
    "8. Write a summary to a file.\n"
   ]
  },
  {
   "cell_type": "markdown",
   "id": "c2a3796c",
   "metadata": {},
   "source": [
    "#### QUESTION 1: Save the following data in a CSV file as ```\"ride.csv\"``` using File IO (3 Marks)"
   ]
  },
  {
   "cell_type": "code",
   "execution_count": 3,
   "id": "9a9464d7",
   "metadata": {},
   "outputs": [],
   "source": [
    "# Save data to an actual CSV file\n",
    "\n",
    "data_csv = \"\"\"ride_id,driver_name,rider_name,city,distance,duration,fare\n",
    "R001,Ali,Karen,New York,12.5,35,23.75\n",
    "R002,Mei,John,Los Angeles,8.0,20,18.00\n",
    "R003,Ravi,Lisa,Chicago,5.3,15,12.50\n",
    "R004,Ali,James,New York,10.0,28,21.00\n",
    "R005,Mei,Sarah,Los Angeles,7.2,22,17.50\n",
    "R006,Ravi,Daniel,Chicago,6.0,18,14.00\n",
    "R007,Ali,Alice,New York,15.0,40,27.00\n",
    "R008,Sara,Mike,Boston,9.5,25,19.00\n",
    "R009,Sara,Emma,Boston,11.0,30,21.50\n",
    "R010,Ravi,David,Chicago,8.2,20,16.25\"\"\"\n",
    "\n",
    "# Write your code to save the data into \"ride.csv\"   (3 marks)\n",
    "with open(\"ride.csv\", \"w\") as file:\n",
    "    file.write(data_csv)\n"
   ]
  },
  {
   "cell_type": "markdown",
   "id": "a342da5c",
   "metadata": {},
   "source": [
    "#### QUESTION 2: Read and parse data from the```\"ride.csv\"```. Complete the given code (8 marks)"
   ]
  },
  {
   "cell_type": "code",
   "execution_count": 6,
   "id": "a905e37d",
   "metadata": {
    "scrolled": true
   },
   "outputs": [
    {
     "name": "stdout",
     "output_type": "stream",
     "text": [
      "{'ride_id': 'R001', 'driver_name': 'Ali', 'rider_name': 'Karen', 'city': 'New York', 'distance': '12.5', 'duration': '35', 'fare': '23.75'}\n",
      "{'ride_id': 'R002', 'driver_name': 'Mei', 'rider_name': 'John', 'city': 'Los Angeles', 'distance': '8.0', 'duration': '20', 'fare': '18.00'}\n",
      "{'ride_id': 'R003', 'driver_name': 'Ravi', 'rider_name': 'Lisa', 'city': 'Chicago', 'distance': '5.3', 'duration': '15', 'fare': '12.50'}\n",
      "{'ride_id': 'R004', 'driver_name': 'Ali', 'rider_name': 'James', 'city': 'New York', 'distance': '10.0', 'duration': '28', 'fare': '21.00'}\n",
      "{'ride_id': 'R005', 'driver_name': 'Mei', 'rider_name': 'Sarah', 'city': 'Los Angeles', 'distance': '7.2', 'duration': '22', 'fare': '17.50'}\n",
      "{'ride_id': 'R006', 'driver_name': 'Ravi', 'rider_name': 'Daniel', 'city': 'Chicago', 'distance': '6.0', 'duration': '18', 'fare': '14.00'}\n",
      "{'ride_id': 'R007', 'driver_name': 'Ali', 'rider_name': 'Alice', 'city': 'New York', 'distance': '15.0', 'duration': '40', 'fare': '27.00'}\n",
      "{'ride_id': 'R008', 'driver_name': 'Sara', 'rider_name': 'Mike', 'city': 'Boston', 'distance': '9.5', 'duration': '25', 'fare': '19.00'}\n",
      "{'ride_id': 'R009', 'driver_name': 'Sara', 'rider_name': 'Emma', 'city': 'Boston', 'distance': '11.0', 'duration': '30', 'fare': '21.50'}\n",
      "{'ride_id': 'R010', 'driver_name': 'Ravi', 'rider_name': 'David', 'city': 'Chicago', 'distance': '8.2', 'duration': '20', 'fare': '16.25'}\n"
     ]
    }
   ],
   "source": [
    "import csv\n",
    "\n",
    "def load_ride_data(filename):\n",
    "    data = []\n",
    "    with open(filename, mode='r') as file:\n",
    "        reader = csv.DictReader(file) \n",
    "        #read and parse data iteratively  (5 marks)\n",
    "        for row in reader:\n",
    "            data.append(row)\n",
    "    return data\n",
    "\n",
    "# Write code(s) to load data from actual CSV file (2 marks)\n",
    "ride_data = load_ride_data(\"ride.csv\")\n",
    "\n",
    "# Write code(s) to preview data (1 mark)\n",
    "for row in ride_data:\n",
    "    print(row)\n",
    "\n"
   ]
  },
  {
   "cell_type": "markdown",
   "id": "01d56383",
   "metadata": {},
   "source": [
    "#### QUESTION 3: Define a function to compute average fare by city and call the function by passing the data (10 marks)"
   ]
  },
  {
   "cell_type": "code",
   "execution_count": 9,
   "id": "a22fd3e5",
   "metadata": {},
   "outputs": [
    {
     "name": "stdout",
     "output_type": "stream",
     "text": [
      "Average Fare by City:\n",
      "New York :$23.92\n",
      "Los Angeles :$17.75\n",
      "Chicago :$14.25\n",
      "Boston :$20.25\n"
     ]
    }
   ],
   "source": [
    "# Write your function definition here to compute average fare by city (8 marks)\n",
    "def average_fare_by_city(data):\n",
    "    city_fare_totals = {}\n",
    "    city_ride_counts = {}\n",
    "\n",
    "    for row in data:\n",
    "        city = row['city']\n",
    "        fare = float(row['fare'])\n",
    "\n",
    "        if city in city_fare_totals:\n",
    "            city_fare_totals[city] += fare\n",
    "            city_ride_counts[city] += 1\n",
    "\n",
    "        else:\n",
    "            city_fare_totals[city] = fare\n",
    "            city_ride_counts[city] = 1\n",
    "\n",
    "    average_fares = {}\n",
    "    for city in city_fare_totals:\n",
    "        average = city_fare_totals[city] / city_ride_counts[city]\n",
    "        average_fares[city] = round(average, 2)\n",
    "\n",
    "    return average_fares\n",
    "    \n",
    "# Write the code(s) to call your function and pass the data (2 marks)\n",
    "average_fares = average_fare_by_city(ride_data)\n",
    "print(\"Average Fare by City:\")\n",
    "for city, avg in average_fares.items():\n",
    "    print(f\"{city} :${avg}\")\n"
   ]
  },
  {
   "cell_type": "markdown",
   "id": "7417ff3f",
   "metadata": {},
   "source": [
    "#### QUESTION 4: Define a function to summarize driver information, call the function by passing data ad display the summary (10 marks)\n",
    "#### ```driver_name, num_of_rides, total_distance, total_fare```"
   ]
  },
  {
   "cell_type": "code",
   "execution_count": 16,
   "id": "d094fcf6",
   "metadata": {},
   "outputs": [
    {
     "name": "stdout",
     "output_type": "stream",
     "text": [
      "Driver Summary:\n",
      "Driver\tRides\tDistance\tFare\n",
      "Ali\t3\t37.50\t\t$71.75\n",
      "Mei\t2\t15.20\t\t$35.50\n",
      "Ravi\t3\t19.50\t\t$42.75\n",
      "Sara\t2\t20.50\t\t$40.50\n"
     ]
    }
   ],
   "source": [
    "\n",
    "# Write your function definition here (7 marks)\n",
    "def summary_driver_info (data):\n",
    "    driver_summary = {}\n",
    "\n",
    "    for row in data:\n",
    "        driver = row['driver_name']\n",
    "        distance = float(row['distance'])\n",
    "        fare = float(row['fare'])\n",
    "\n",
    "        if driver not in driver_summary:\n",
    "            driver_summary[driver] = {\n",
    "                'num_of_rides': 1,\n",
    "                'total_distance': distance,\n",
    "                'total_fare': fare\n",
    "            }\n",
    "        else:\n",
    "            driver_summary[driver]['num_of_rides'] += 1\n",
    "            driver_summary[driver]['total_distance'] += distance\n",
    "            driver_summary[driver]['total_fare'] += fare\n",
    "            \n",
    "    return driver_summary\n",
    "\n",
    "# Write the code(s) to call your function and pass the data (2 marks)\n",
    "driver_info = summary_driver_info(ride_data)\n",
    "\n",
    "\n",
    "# Write the code(s) to display driver's summary (1 mark)\n",
    "print(\"Driver Summary:\")\n",
    "print(\"Driver\\tRides\\tDistance\\tFare\")\n",
    "for driver, info in driver_info.items():\n",
    "    print(f\"{driver}\\t{info['num_of_rides']}\\t{info['total_distance']:.2f}\\t\\t${info['total_fare']:.2f}\")"
   ]
  },
  {
   "cell_type": "markdown",
   "id": "01ceb679",
   "metadata": {},
   "source": [
    "#### QUESTION 5: Implement a function ```analyze_peak_slice(data, start_idx, end_idx)``` that: (10 marks)\n",
    "\n",
    "    1.Accepts the ride data list and two indices: start_idx and end_idx.\n",
    "    2.Extracts a slice of rides from start_idx = 2 to end_idx = 6 (inclusive).\n",
    "    3.Calculates and returns:\n",
    "        i)  Total number of rides in that slice\n",
    "        ii) Average fare\n",
    "        iii)List of unique drivers involved\n",
    "        \n",
    "    Sample output:\n",
    " \n",
    "   ```Total_rides: 5```<br>\n",
    "   ```Average_fare: 18.45```<br>\n",
    "   ```Drivers: Ravi, Ali, Mei``` "
   ]
  },
  {
   "cell_type": "code",
   "execution_count": 24,
   "id": "beef29d6",
   "metadata": {},
   "outputs": [
    {
     "name": "stdout",
     "output_type": "stream",
     "text": [
      "Total_rides: 5\n",
      "Average_fare: 18.4\n",
      "Drivers: Ravi, Mei, Ali\n"
     ]
    }
   ],
   "source": [
    "# Write your function definition here that accepts ride data, start index and end index, slice the list, \n",
    "# calculate and returns the values in (3)   (8 marks)\n",
    "def analyze_peak_slice(data, start_idx, end_idx):\n",
    "    sliced_data = data[start_idx:end_idx + 1]\n",
    "    total_rides = len(sliced_data)\n",
    "    total_fare = sum(float(row['fare']) for row in sliced_data)\n",
    "    average_fare = round(total_fare / total_rides, 2)\n",
    "    unique_drivers = set(row['driver_name'] for row in sliced_data)\n",
    "\n",
    "    return total_rides, average_fare, unique_drivers\n",
    "\n",
    "# Write the code(s) to call your function and pass the ride data, start index and end index (2 marks)\n",
    "total_rides, average_fare, drivers = analyze_peak_slice(ride_data, 2, 6)\n",
    "\n",
    "print(\"Total_rides:\", total_rides)\n",
    "print(\"Average_fare:\", average_fare)\n",
    "print(\"Drivers:\", \", \".join(drivers))\n"
   ]
  },
  {
   "cell_type": "markdown",
   "id": "4149a553",
   "metadata": {},
   "source": [
    "#### QUESTION 6: Use lambda function to find top 3 drivers by total fare (7 marks)"
   ]
  },
  {
   "cell_type": "code",
   "execution_count": 29,
   "id": "e7a1f6d9",
   "metadata": {},
   "outputs": [
    {
     "name": "stdout",
     "output_type": "stream",
     "text": [
      "Top 3 Drivers by Total Fare:\n",
      "Ali: $71.75\n",
      "Ravi: $42.75\n",
      "Sara: $40.50\n"
     ]
    }
   ],
   "source": [
    "# Write your function definition here for top 3 drivers by total fare (5 marks)\n",
    "def top3_drivers(driver_summary):\n",
    "    sorted_drivers = sorted(\n",
    "        driver_summary.items(),\n",
    "        key=lambda item: item[1]['total_fare'],\n",
    "        reverse=True\n",
    "    )\n",
    "\n",
    "    return sorted_drivers[:3]\n",
    "\n",
    "# Write the code(s) to call your function and pass the driver's summary data (2 marks)\n",
    "top3 = top3_drivers(driver_info)\n",
    "\n",
    "print(\"Top 3 Drivers by Total Fare:\")\n",
    "for driver, info in top3:\n",
    "    print(f\"{driver}: ${info['total_fare']:.2f}\")\n"
   ]
  },
  {
   "cell_type": "markdown",
   "id": "3a523621",
   "metadata": {},
   "source": [
    "#### QUESTION 7: Write a function to calculate average duration by cities and use lambda function to sort cities by average duration (10 marks)"
   ]
  },
  {
   "cell_type": "code",
   "execution_count": 32,
   "id": "641f79af",
   "metadata": {},
   "outputs": [
    {
     "name": "stdout",
     "output_type": "stream",
     "text": [
      "Average Duration by City (sorted):\n",
      "New York: 34.33\n",
      "Boston: 27.50\n",
      "Los Angeles: 21.00\n",
      "Chicago: 17.67\n"
     ]
    }
   ],
   "source": [
    "# Write your function definition here for average duration and sort cities (8 marks)\n",
    "def average_duration_by_city(data):\n",
    "    city_duration_totals = {}\n",
    "    city_ride_counts = {}\n",
    "\n",
    "    for row in data:\n",
    "        city = row['city']\n",
    "        duration = float(row['duration'])\n",
    "\n",
    "        if city in city_duration_totals:\n",
    "            city_duration_totals[city] += duration\n",
    "            city_ride_counts[city] += 1\n",
    "        else:\n",
    "            city_duration_totals[city] = duration\n",
    "            city_ride_counts[city] = 1\n",
    "            \n",
    "    avg_durations = {\n",
    "        city: city_duration_totals[city] / city_ride_counts[city]\n",
    "        for city in city_duration_totals\n",
    "    }\n",
    "\n",
    "    sorted_avg_durations = sorted(\n",
    "        avg_durations.items(),\n",
    "        key=lambda item: item[1],\n",
    "        #reverse=True\n",
    "    )\n",
    "\n",
    "    return sorted_avg_durations\n",
    "\n",
    "# Write the code(s) to call your function and pass the data (2 marks)\n",
    "sorted_durations = average_duration_by_city(ride_data)\n",
    "\n",
    "print(\"Average Duration by City (sorted):\")\n",
    "for city, avg in sorted_durations:\n",
    "    print(f\"{city}: {avg:.2f}\")\n"
   ]
  },
  {
   "cell_type": "markdown",
   "id": "f05d6574",
   "metadata": {},
   "source": [
    "#### QUESTION 8: Define a function to write driver summary to a text file ```driver_summary.txt``` with the following information:\n",
    "#### ```\"Driver\", \"Total Rides\", \"Total Distance\", \"Total Fare\"```"
   ]
  },
  {
   "cell_type": "code",
   "execution_count": 36,
   "id": "0cb811f9",
   "metadata": {},
   "outputs": [
    {
     "name": "stdout",
     "output_type": "stream",
     "text": [
      "Driver summary written to driver_summary.txt.\n"
     ]
    }
   ],
   "source": [
    "# Write your function definition here for writing driver summary into a text file (8 marks)\n",
    "def write_driver_summary_to_file(summary_data, filename):\n",
    "    with open(filename, 'w') as file:\n",
    "        file.write(f\"{'Driver':<12} | {'Total Rides':<12} | {'Total Distance':<15} | {'Total Fare':<10}\\n\")\n",
    "        file.write(\"-\" * 60 + \"\\n\")\n",
    "\n",
    "        for driver, info in summary_data.items():\n",
    "            line = f\"{driver:<12} | {info['num_of_rides']:<12} | {info['total_distance']:<15.2f} | ${info['total_fare']:<.2f}\\n\"\n",
    "            file.write(line)\n",
    "        \n",
    "# Write the code(s) to call your function and pass the driver summary data (2 marks)\n",
    "write_driver_summary_to_file(driver_info, 'driver_summary.txt')\n",
    "print(\"Driver summary written to driver_summary.txt.\")\n",
    "\n"
   ]
  },
  {
   "cell_type": "code",
   "execution_count": null,
   "id": "257b2624",
   "metadata": {},
   "outputs": [],
   "source": []
  }
 ],
 "metadata": {
  "kernelspec": {
   "display_name": "Python [conda env:base] *",
   "language": "python",
   "name": "conda-base-py"
  },
  "language_info": {
   "codemirror_mode": {
    "name": "ipython",
    "version": 3
   },
   "file_extension": ".py",
   "mimetype": "text/x-python",
   "name": "python",
   "nbconvert_exporter": "python",
   "pygments_lexer": "ipython3",
   "version": "3.12.7"
  }
 },
 "nbformat": 4,
 "nbformat_minor": 5
}
